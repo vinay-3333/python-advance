{
  "nbformat": 4,
  "nbformat_minor": 0,
  "metadata": {
    "colab": {
      "provenance": []
    },
    "kernelspec": {
      "name": "python3",
      "display_name": "Python 3"
    },
    "language_info": {
      "name": "python"
    }
  },
  "cells": [
    {
      "cell_type": "code",
      "execution_count": null,
      "metadata": {
        "id": "1vWVkJ12qxkI"
      },
      "outputs": [],
      "source": []
    },
    {
      "cell_type": "markdown",
      "source": [
        "1. What are the new features added in Python 3.8 version?\n",
        "answer:-\n",
        "\n",
        "Python 3.8 introduced several new features and optimizations. Some of the notable features and changes in Python 3.8 include:\n",
        "\n",
        "Assignment Expressions (The Walrus Operator): This is perhaps the most talked-about feature in Python 3.8. It allows you to use the := operator to assign values to variables as part of an expression. For example:\n",
        "\n",
        "python\n",
        "Copy code\n",
        "if (count := some_function()) > 0:\n",
        "    print(f\"Count is {count}\")\n",
        "Positional-Only Parameters: Python 3.8 introduced a way to specify that certain function parameters can only be passed by position and not by keyword. You can define these using the / syntax in function definitions.\n",
        "\n",
        "f-strings Improvements: Python 3.8 enhanced f-strings by allowing the use of the = character to display both the expression and its value.\n",
        "\n",
        "future Annotations: A new syntax feature, annotations, was added for specifying type hints for function arguments and return values using a standard variable assignment. This allows you to add type hints directly to the function signature.\n",
        "\n",
        "New Syntax Features: Several new syntax features were introduced, such as the __pow__() method for defining a new operator, underscores in numeric literals for better readability (e.g., 1_000_000 instead of 1000000), and the \"continue\" statement inside a \"finally\" block.\n",
        "\n",
        "TypedDict: The typing.TypedDict class was introduced to help define dictionaries with a fixed set of keys and their corresponding value types.\n",
        "\n",
        "Math Functions: The math.prod() function was added to calculate the product of an iterable of numbers.\n",
        "\n",
        "Reversible Dictionaries: The reversible argument was added to the dict class, allowing dictionaries to be constructed with a reversed iteration order.\n",
        "\n",
        "Syntax Warnings: New syntax warnings were introduced to catch common programming mistakes.\n",
        "\n",
        "Performance Improvements: Python 3.8 included various performance improvements and optimizations, such as faster function calls and dictionary lookups.\n",
        "\n",
        "Deprecations and Removals: Some features that were deprecated in previous versions were removed, such as the u format specifier for Unicode literals."
      ],
      "metadata": {
        "id": "Pfc5dEEaq2Uj"
      }
    },
    {
      "cell_type": "code",
      "source": [],
      "metadata": {
        "id": "k_l09Wf9q8J3"
      },
      "execution_count": null,
      "outputs": []
    },
    {
      "cell_type": "markdown",
      "source": [
        "\n",
        "2. What is monkey patching in Python?\n",
        "answer:-\n",
        "Monkey Patching in Python:\n",
        "\n",
        "Monkey patching is a programming technique in Python where you dynamically modify or extend the behavior of existing modules, classes, or functions at runtime. It involves making changes to code that you don't have direct control over, such as built-in modules or third-party libraries.\n",
        "\n",
        "Monkey patching is typically used for one of the following reasons:\n",
        "\n",
        "a. Fixing Bugs: You can apply monkey patches to correct bugs or issues in third-party libraries without waiting for an official fix.\n",
        "\n",
        "b. Adding Functionality: You can extend the functionality of existing classes or modules, adding new methods or attributes.\n",
        "\n",
        "c. Testing and Mocking: Monkey patching is often used in testing to replace or mock certain functionality with test-specific behavior.\n"
      ],
      "metadata": {
        "id": "tZHlE49Gq8kL"
      }
    },
    {
      "cell_type": "code",
      "source": [],
      "metadata": {
        "id": "U5N9eP6brHj-"
      },
      "execution_count": null,
      "outputs": []
    },
    {
      "cell_type": "markdown",
      "source": [
        "3. What is the difference between a shallow copy and deep copy?\n",
        "answerr:-\n",
        "\n",
        "In Python, a shallow copy and a deep copy are two ways to duplicate objects like lists, dictionaries, or other mutable data structures. The key difference between them lies in how they handle nested objects (objects within objects). Here's an explanation of each:\n",
        "\n",
        "Shallow Copy:\n",
        "\n",
        "A shallow copy creates a new object, but it does not create copies of the objects inside the original object. Instead, it copies references to these objects. So, changes made to the nested objects in the copied structure are reflected in both the original and the shallow copy.\n",
        "\n",
        "In Python, you can create a shallow copy using methods like copy() for lists and copy.copy() for more complex objects.\n",
        "\n",
        "Example of a shallow copy:\n",
        "\n",
        "python\n",
        "Copy code\n",
        "import copy\n",
        "\n",
        "original_list = [1, [2, 3], 4]\n",
        "shallow_copied_list = copy.copy(original_list)\n",
        "\n",
        "# Modify the nested list in the shallow copy\n",
        "shallow_copied_list[1][0] = 99\n",
        "\n",
        "# This change is reflected in the original list as well\n",
        "print(original_list)  # Output: [1, [99, 3], 4]\n",
        "Deep Copy:\n",
        "\n",
        "A deep copy, on the other hand, creates a completely independent copy of the original object along with copies of all the objects inside it, recursively. This means changes in the copied structure do not affect the original one, and vice versa.\n",
        "\n",
        "You can create a deep copy using the copy.deepcopy() function from the copy module.\n",
        "\n",
        "Example of a deep copy:\n",
        "\n",
        "python\n",
        "Copy code\n",
        "import copy\n",
        "\n",
        "original_list = [1, [2, 3], 4]\n",
        "deep_copied_list = copy.deepcopy(original_list)\n",
        "\n",
        "# Modify the nested list in the deep copy\n",
        "deep_copied_list[1][0] = 99\n",
        "\n",
        "# The change does not affect the original list\n",
        "print(original_list)  # Output: [1, [2, 3], 4]\n",
        "In summary, a shallow copy creates a new object but doesn't clone the objects within it, leading to shared references. A deep copy creates an entirely new structure with copies of all the objects inside, resulting in a fully independent copy. The choice between shallow and deep copy depends on your specific needs and whether you want changes to the copied structure to affect the original one."
      ],
      "metadata": {
        "id": "_ofYfGYnrH-Y"
      }
    },
    {
      "cell_type": "code",
      "source": [],
      "metadata": {
        "id": "-4vZPO9BrXNl"
      },
      "execution_count": null,
      "outputs": []
    },
    {
      "cell_type": "markdown",
      "source": [
        "4. What is the maximum possible length of an identifier?\n",
        "answer:-\n",
        "In Python, the maximum possible length of an identifier (variable name, function name, class name, etc.) is technically not limited by the language specification. Python allows you to have very long identifiers. However, it's important to consider practicality and readability when naming your identifiers.\n",
        "\n",
        "While Python doesn't impose a strict limit on the length of identifiers, it's a good practice to keep them reasonably short and descriptive to make your code more readable and maintainable. PEP 8, the Python Enhancement Proposal that provides style guidelines for writing clean and readable Python code, suggests keeping lines of code under 79 characters and using lowercase letters with underscores for variable and function names (i.e., snake_case) and using CapitalizedWords (CamelCase) for class names.\n",
        "\n"
      ],
      "metadata": {
        "id": "W2bkMM7FrXs_"
      }
    },
    {
      "cell_type": "code",
      "source": [],
      "metadata": {
        "id": "XSGXY8NnrhTF"
      },
      "execution_count": null,
      "outputs": []
    },
    {
      "cell_type": "markdown",
      "source": [
        "5. What is generator comprehension?\n",
        "answer:-\n",
        "A generator comprehension, also known as a generator expression, is a concise way to create a generator in Python. It's similar in syntax to list comprehensions, but instead of creating a list, it generates values on-the-fly one at a time, which can save memory and improve performance for large data sets.\n",
        "\n",
        "The syntax for a generator comprehension is similar to list comprehensions, but instead of using square brackets [], you use parentheses () or no brackets at all:\n",
        "\n",
        "python\n",
        "Copy code\n",
        "# Using parentheses\n",
        "gen = (expression for item in iterable if condition)\n",
        "\n",
        "# Without brackets (in this form, it's more like a generator expression)\n",
        "gen = expression for item in iterable if condition\n",
        "Here's a simple example of a generator comprehension that generates squares of numbers from 0 to 9:\n",
        "\n",
        "python\n",
        "Copy code\n",
        "squared_numbers = (x**2 for x in range(10))\n",
        "You can iterate over the squared_numbers generator using a for loop or convert it to a list or other data structures using list(), tuple(), or set() constructors. The generator is evaluated lazily, meaning it produces values one at a time, so it's memory-efficient, especially when dealing with large data sets:\n",
        "\n",
        "python\n",
        "Copy code\n",
        "for num in squared_numbers:\n",
        "    print(num)\n",
        "Generator comprehensions are a powerful tool for working with large data sets or when you don't want to generate all values at once. They can be used wherever an iterable is needed in Python, providing a memory-efficient and concise way to generate values on-the-fly."
      ],
      "metadata": {
        "id": "QkLUGQwqrhxP"
      }
    },
    {
      "cell_type": "code",
      "source": [],
      "metadata": {
        "id": "bWg1QZMKroUD"
      },
      "execution_count": null,
      "outputs": []
    }
  ]
}