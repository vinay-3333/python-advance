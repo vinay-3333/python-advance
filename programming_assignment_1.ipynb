{
  "nbformat": 4,
  "nbformat_minor": 0,
  "metadata": {
    "colab": {
      "provenance": []
    },
    "kernelspec": {
      "name": "python3",
      "display_name": "Python 3"
    },
    "language_info": {
      "name": "python"
    }
  },
  "cells": [
    {
      "cell_type": "code",
      "execution_count": null,
      "metadata": {
        "id": "XJ29eXr5pJEZ"
      },
      "outputs": [],
      "source": []
    },
    {
      "cell_type": "markdown",
      "source": [
        "Q1. What is the purpose of Python's OOP?\n",
        "answer:-\n",
        "oops is object oriented programming language\n",
        "classes and object:-\n",
        "class is a blueprint or template in which multiple attributes and methods we can define when class we define we use class keyword when attribute is public we can access those attribute outside the class dot(.) we are using\n",
        "object is a instance of classes it is represent by object it also reflect all the properties of attribute\n",
        "object is also reflected all the properties of method\n",
        "through boject we can also initlize we some value\n",
        "\n",
        "\n",
        "Encapsulation: Encapsulation is the idea of bundling data (attributes) and the methods that operate on that data into a single unit, i.e., a class. It allows you to hide the internal details of how an object works and expose a well-defined interface for interacting with it. This helps in controlling access to data and preventing unintended modifications.\n",
        "\n",
        "\n",
        "Inheritance: Inheritance allows you to create a new class (called a subclass or derived class) that inherits attributes and methods from an existing class (called a superclass or base class). This promotes code reuse and the creation of a hierarchical structure among classes.\n",
        "\n",
        "Polymorphism: Polymorphism enables you to use objects of different classes in a consistent way. It allows objects of different classes to be treated as objects of a common superclass. Polymorphism is often achieved through method overriding and method overloading.\n",
        "\n",
        "Abstraction: Abstraction involves simplifying complex systems by modeling them with a simplified representation. In OOP, classes and objects provide a level of abstraction that allows you to focus on essential details while hiding unnecessary complexity."
      ],
      "metadata": {
        "id": "EGWQ1TU4pROw"
      }
    },
    {
      "cell_type": "code",
      "source": [],
      "metadata": {
        "id": "6uH5GC3GreOi"
      },
      "execution_count": null,
      "outputs": []
    },
    {
      "cell_type": "markdown",
      "source": [
        "Q2. Where does an inheritance search look for an attribute?\n",
        "answer::-\n",
        "\n",
        "In Python, when you access an attribute (a variable or method) of an object using dot notation, the inheritance search, also known as the attribute lookup, follows a specific order to find that attribute. This order is defined by the method resolution order (MRO) and is determined by the C3 linearization algorithm used by Python's classes and inheritance hierarchy.\n",
        "\n",
        "The MRO ensures that attributes are looked up in a predictable and consistent order. The MRO search looks for an attribute in the following sequence:\n",
        "\n",
        "The Object's Class: The first place Python looks for an attribute is in the class of the object itself. If the attribute is found in this class, it is used, and the search stops.\n",
        "\n",
        "Parent Classes (Base Classes or Superclasses): If the attribute is not found in the object's class, Python then looks in the parent classes of the object's class, following the order in which they were specified in the class definition. This order is determined by the inheritance hierarchy.\n",
        "\n",
        "Depth-First, Left-to-Right: When multiple inheritance is involved (a class inherits from multiple parent classes), Python follows a depth-first, left-to-right order when searching for attributes. This means it first looks in the leftmost parent class, then in its parent classes, and so on, until it finds the attribute or reaches the end of the hierarchy.\n",
        "\n",
        "Object Class (Implicit Parent): If the attribute is not found in any of the specified parent classes, Python finally looks in the implicit parent class, which is the base class for all classes in Python, called object."
      ],
      "metadata": {
        "id": "s4XYjLVsrgqa"
      }
    },
    {
      "cell_type": "code",
      "source": [],
      "metadata": {
        "id": "eBzmpUiVr4ly"
      },
      "execution_count": null,
      "outputs": []
    },
    {
      "cell_type": "markdown",
      "source": [
        "Q3. How do you distinguish between a class object and an instance object?\n",
        "answer:-\n",
        "\n",
        "In Python, you can distinguish between a class object and an instance object based on their properties and purposes:\n",
        "\n",
        "Class Object:\n",
        "\n",
        "Definition: A class object is an instance of a class. It represents the blueprint or template for creating instances of that class.\n",
        "Purpose: Class objects are used to define the structure and behavior of objects that will be created from the class. They contain class-level attributes and methods that are shared among all instances of the class.\n",
        "Access: Class objects are accessed by using the class name itself.\n",
        "\n",
        "\n",
        "Definition: An instance object is an object created from a class. It is a concrete realization of the class blueprint, with its own set of attributes and values.\n",
        "Purpose: Instance objects are used to represent individual instances of a class. They contain instance-specific attributes and can have their own unique state and behavior.\n",
        "Access: Instance objects are accessed by creating instances using the class constructor (e.g., ClassName()).\n"
      ],
      "metadata": {
        "id": "K4Prm678r9lQ"
      }
    },
    {
      "cell_type": "code",
      "source": [],
      "metadata": {
        "id": "rhP6Uqr6sng6"
      },
      "execution_count": null,
      "outputs": []
    },
    {
      "cell_type": "markdown",
      "source": [
        "Q4. What makes the first argument in a class’s method function special?\n",
        "answer:-\n",
        "In Python, the first argument in a class's method function is conventionally named self, although you can technically name it whatever you like (though it's strongly recommended to stick with self for clarity). This self argument is special because it represents the instance of the class on which the method is called. It allows you to access and manipulate the instance's attributes and call other methods within the class.\n",
        "\n",
        "Here's why the self argument is special and how it works:\n",
        "\n",
        "Instance-specific Access: self gives you access to the attributes and methods specific to the instance that called the method. It allows you to work with instance variables, which have their unique values for each instance.\n",
        "\n",
        "Method Access: Using self, you can call other methods within the class, including other instance methods. This allows you to encapsulate related behavior within the class."
      ],
      "metadata": {
        "id": "7BoyQwRWsqWw"
      }
    },
    {
      "cell_type": "code",
      "source": [],
      "metadata": {
        "id": "TgZSZMumtKF4"
      },
      "execution_count": null,
      "outputs": []
    },
    {
      "cell_type": "markdown",
      "source": [
        "Q5. What is the purpose of the __init__ method?\n",
        "answer:-\n",
        "The __init__ method in Python is a special method, also known as a constructor, and its purpose is to initialize the attributes and perform any necessary setup when an object (instance) of a class is created. It is the first method that gets automatically called when you create a new instance of a class. The __init__ method allows you to set the initial state of the object and provide it with any necessary data.\n",
        "\n",
        "Here are the key purposes and features of the __init__ method:\n",
        "\n",
        "Initialization: The primary purpose of __init__ is to initialize the attributes (variables) of an instance. You can set the initial values of these attributes based on the arguments passed to the __init__ method.\n",
        "\n",
        "Constructor: __init__ serves as a constructor for your class. When you create an object using the class name followed by parentheses (e.g., my_instance = MyClass()), Python automatically calls the __init__ method for that instance.\n",
        "\n",
        "Customization: You can customize the __init__ method to accept different arguments, allowing you to create instances with specific initial values or configurations. This makes your class flexible and adaptable to different use cases."
      ],
      "metadata": {
        "id": "tgqx-_jOtQQ4"
      }
    },
    {
      "cell_type": "code",
      "source": [],
      "metadata": {
        "id": "8-iriKFPtc0D"
      },
      "execution_count": null,
      "outputs": []
    },
    {
      "cell_type": "markdown",
      "source": [
        "Q6. What is the process for creating a class instance?\n",
        "answer:-\n",
        "Accessing Instance Attributes and Methods:\n",
        "\n",
        "Once you have created an instance, you can access its attributes and methods using dot notation"
      ],
      "metadata": {
        "id": "_WtfmDA9tfP_"
      }
    },
    {
      "cell_type": "markdown",
      "source": [
        "Q7. What is the process for creating a class?\n",
        "answer:-\n",
        "Class Definition:\n",
        "\n",
        "Begin by defining a class using the class keyword followed by the name of the class. The class name should follow Python's naming conventions (typically using CamelCase, starting with an uppercase letter)\n",
        "\n",
        "Attributes and Methods:\n",
        "\n",
        "Inside the class, you can define class-level attributes (variables) and methods (functions) that describe the properties and behavior of objects created from this class.\n",
        "\n",
        "\n",
        "Constructor (__init__ Method):\n",
        "\n",
        "If you want to initialize the attributes of instances when they are created, define a special method called __init__ within the class. This method takes at least one argument, conventionally named self, which refers to the instance itself. You can also include additional arguments to set the initial values of instance attributes.\n",
        "Class Methods and Instance Methods:\n",
        "\n",
        "Define methods within the class to encapsulate behavior. Class methods are defined like regular functions within the class and typically take self as the first argument to operate on instance-specific data. Class methods can also take additional arguments.\n",
        "Class-level attributes and methods are accessible using the class name (e.g., MyClass.class_variable) or within instance methods using self.\n",
        "Instance Creation:\n",
        "\n",
        "After defining the class, you can create instances of the class by calling the class as if it were a function, passing any required arguments to the __init__ method (if defined)."
      ],
      "metadata": {
        "id": "EGYaoWAIttzo"
      }
    },
    {
      "cell_type": "markdown",
      "source": [
        "Q8. How would you define the superclasses of a class?\n",
        "answer:-\n",
        "\n",
        "In Python, you can define the superclasses (parent classes) of a class by specifying them inside the parentheses after the class name in the class definition. Superclasses are also referred to as base classes. A class can inherit attributes and methods from one or more superclasses, allowing you to reuse code and create a hierarchy of classes.\n",
        "\n",
        "Here's the syntax for defining superclasses in a class definition:\n",
        "\n",
        "\n",
        "Subclass is the name of the class you are defining.\n",
        "Superclass1, Superclass2, and so on represent the names of the superclasses that Subclass inherits from. You can list multiple superclasses separated by commas.\n",
        "Here's an example of defining a subclass that inherits from two superclasses:"
      ],
      "metadata": {
        "id": "dBkC7t6_uFsq"
      }
    },
    {
      "cell_type": "code",
      "source": [],
      "metadata": {
        "id": "OkSYFZrCuWqW"
      },
      "execution_count": null,
      "outputs": []
    }
  ]
}