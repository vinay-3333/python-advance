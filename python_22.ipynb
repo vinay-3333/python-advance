{
  "nbformat": 4,
  "nbformat_minor": 0,
  "metadata": {
    "colab": {
      "provenance": []
    },
    "kernelspec": {
      "name": "python3",
      "display_name": "Python 3"
    },
    "language_info": {
      "name": "python"
    }
  },
  "cells": [
    {
      "cell_type": "code",
      "execution_count": null,
      "metadata": {
        "id": "XVZQz5bFMnfR"
      },
      "outputs": [],
      "source": []
    },
    {
      "cell_type": "markdown",
      "source": [
        "Q1. What are the benefits of the built-in array package, if any?\n",
        "answer:-\n",
        "\n",
        "Python's built-in array module provides an array data type that is similar to Python lists but with some key differences and benefits:\n",
        "\n",
        "Homogeneous Data: Unlike Python lists, array objects hold elements of a single data type, making them more memory-efficient and faster for certain operations. This can be particularly advantageous in situations where you need to work with large datasets of a single data type, such as numerical data.\n",
        "\n",
        "Fixed Type: When you create an array, you specify the data type for its elements, such as integers, floating-point numbers, or characters. This ensures that all elements within the array are of the same type, which can prevent unintended type errors.\n",
        "\n",
        "Efficient Memory Usage: Due to the homogeneous nature of array, it can be more memory-efficient compared to lists when dealing with large datasets. This is because Python lists allow for heterogeneous data types and require additional memory to store type information for each element.\n",
        "\n",
        "Performance: array objects can be faster than lists for certain operations because they are optimized for numerical computations. For example, when performing mathematical calculations on arrays, you may see performance benefits over lists.\n",
        "\n",
        "Interoperability: array objects can be more easily passed to and used in low-level libraries and external functions (e.g., NumPy) that expect a specific data type for efficient numerical processing. This can improve interoperability between Python and other languages and libraries.\n",
        "\n",
        "Compact Data Storage: array objects store data in a more compact binary format compared to lists, which store data as Python objects. This can be useful for reading and writing data to files or for network communication where a compact data representation is desired.\n",
        "\n",
        "However, it's essential to note that Python's array module is not as versatile or feature-rich as other data structures like NumPy arrays. If you need advanced features or a broader range of numerical and array manipulation capabilities, NumPy is often a better choice. NumPy provides a highly efficient, multi-dimensional array data type and a comprehensive set of array operations for scientific and numerical computing.\n",
        "\n",
        "In summary, the benefits of Python's built-in array module include improved memory efficiency, type safety, and performance for certain operations. It is particularly useful for handling arrays of homogeneous data. However, for more advanced numerical and array manipulation tasks, libraries like NumPy are often preferred.\n",
        "\n",
        "\n",
        "\n",
        "\n"
      ],
      "metadata": {
        "id": "w7Hjj4r0Mrgw"
      }
    },
    {
      "cell_type": "code",
      "source": [],
      "metadata": {
        "id": "xbq20Ga7MwIa"
      },
      "execution_count": null,
      "outputs": []
    },
    {
      "cell_type": "markdown",
      "source": [
        "Q2. What are some of the array package&#39;s limitations?\n",
        "answer:-\n",
        "\n",
        "Python's built-in array module has several limitations compared to more advanced array-like data structures and libraries like NumPy:\n",
        "\n",
        "Homogeneous Data Requirement: The array module enforces that all elements in an array must have the same data type. While this is an advantage for certain use cases, it can be limiting when you need to work with mixed data types or when you want more flexibility in handling data.\n",
        "\n",
        "Limited Functionality: The array module provides only basic functionality for array manipulation. It lacks the extensive array operations, linear algebra, and statistical functions available in more comprehensive libraries like NumPy.\n",
        "\n",
        "No Multidimensional Arrays: The array module supports one-dimensional arrays only. If you need to work with multi-dimensional arrays, you'll need to implement your own data structure or use a library like NumPy.\n",
        "\n",
        "No Broadcasting: NumPy allows you to perform operations on arrays of different shapes through broadcasting, which can greatly simplify array-based calculations. The array module does not provide this feature.\n",
        "\n",
        "Limited Data Types: The array module supports a limited set of data types, including integers, floating-point numbers, and characters. NumPy provides a much broader range of data types and precision options.\n",
        "\n",
        "Lack of Advanced Features: NumPy offers advanced features like masked arrays, structured arrays, and memory-mapped arrays, which are not available in the array module.\n",
        "\n",
        "Performance: While array objects can be more memory-efficient than lists, they may not offer the same level of performance optimization for numerical computations as NumPy arrays. NumPy is specifically designed for numerical and scientific computing and includes optimized C and Fortran libraries for performance.\n",
        "\n",
        "Ecosystem and Community: The array module lacks the extensive ecosystem, community support, and third-party libraries that NumPy benefits from. NumPy is the standard for numerical computing in Python and is widely used in scientific and data analysis fields.\n",
        "\n",
        "In summary, the array module is a basic, built-in data structure for working with arrays of homogeneous data, and it has limitations in terms of functionality and advanced features. For more advanced array manipulation, numerical computation, and data analysis tasks, NumPy is the preferred choice in the Python ecosystem.\n",
        "\n",
        "\n",
        "\n",
        "\n"
      ],
      "metadata": {
        "id": "qFheR1diMwhX"
      }
    },
    {
      "cell_type": "code",
      "source": [],
      "metadata": {
        "id": "tr86al-gM3Qg"
      },
      "execution_count": null,
      "outputs": []
    },
    {
      "cell_type": "markdown",
      "source": [
        "Q3. Describe the main differences between the array and numpy packages.\n",
        "answer:-\n",
        "of data, but they have significant differences in terms of features, capabilities, and performance. Here are the main differences between the array module and NumPy:\n",
        "\n",
        "Data Types:\n",
        "\n",
        "array: The array module supports a limited set of data types, including integers, floating-point numbers, and characters. It enforces that all elements in an array must have the same data type.\n",
        "NumPy: NumPy provides a comprehensive set of data types, including various integer and floating-point precisions, complex numbers, booleans, strings, and more. NumPy also allows you to create user-defined data types (structured arrays).\n",
        "Multidimensional Arrays:\n",
        "\n",
        "array: The array module supports one-dimensional arrays only.\n",
        "NumPy: NumPy is designed for multi-dimensional arrays. You can create arrays with any number of dimensions and perform operations on them.\n",
        "Functionality:\n",
        "\n",
        "array: The array module offers basic array functionality, limited to basic array operations and some slicing capabilities.\n",
        "NumPy: NumPy provides a wide range of array manipulation and numerical computation functions, including advanced indexing, mathematical operations, linear algebra, statistical functions, and more. It also supports broadcasting, which simplifies operations on arrays of different shapes.\n",
        "Performance:\n",
        "\n",
        "array: While array objects may be more memory-efficient than Python lists for certain data types, they may not offer the same level of performance optimization for numerical computations as NumPy arrays.\n",
        "NumPy: NumPy is specifically designed for numerical and scientific computing and includes highly optimized C and Fortran libraries under the hood. This results in significantly faster performance for numerical operations.\n",
        "Ecosystem and Community:\n",
        "\n",
        "array: The array module is a built-in Python module, but it has limited ecosystem support and a smaller user community."
      ],
      "metadata": {
        "id": "MP1L3oErM3sH"
      }
    },
    {
      "cell_type": "markdown",
      "source": [
        "Q4. Explain the distinctions between the empty, ones, and zeros functions.\n",
        "answer:-\n",
        "\n",
        "In NumPy, the functions numpy.empty, numpy.ones, and numpy.zeros are used to create arrays with specific shapes and data types. They have distinctions in terms of the values they initialize the arrays with:\n",
        "\n",
        "numpy.empty:\n",
        "\n",
        "numpy.empty(shape, dtype=float, order='C') creates a new array without initializing its values. The elements of the array will have arbitrary, uninitialized values that may depend on the memory location and system state.\n",
        "\n",
        "This function is typically used when you plan to fill the array with specific values later, and you want to avoid the overhead of initializing all elements.\n",
        "\n",
        "Example:\n",
        "\n",
        "python\n",
        "Copy code\n",
        "import numpy as np\n",
        "empty_array = np.empty((2, 3), dtype=int)\n",
        "numpy.ones:\n",
        "\n",
        "numpy.ones(shape, dtype=None, order='C') creates a new array filled with ones. You specify the shape of the array, and the optional dtype parameter allows you to specify the data type for the elements.\n",
        "\n",
        "This function is commonly used when you want to create an array filled with ones, such as for initializing a matrix or for certain mathematical operations."
      ],
      "metadata": {
        "id": "50b6nxAoNAG7"
      }
    },
    {
      "cell_type": "code",
      "source": [],
      "metadata": {
        "id": "ZsfEffsyNHZx"
      },
      "execution_count": null,
      "outputs": []
    },
    {
      "cell_type": "markdown",
      "source": [
        "Q5. In the fromfunction function, which is used to construct new arrays, what is the role of the callable\n",
        "argument?\n",
        "answer:-\n",
        "In NumPy, the numpy.fromfunction function is used to construct new arrays by applying a callable function to each element's coordinates in the resulting array. The role of the callable argument is to define a function that specifies how each element of the new array is calculated based on its coordinates.\n",
        "\n",
        "The numpy.fromfunction function takes two main arguments:\n",
        "\n",
        "Function (callable): This argument is a callable function, which is used to define how the elements of the new array are computed based on their coordinates. The function should take as input a set of coordinates, often represented as separate arguments or a single tuple of coordinates, and return the value for that element.\n",
        "\n",
        "Shape (shape): This argument specifies the shape of the resulting array. It is a tuple indicating the number of elements along each axis.\n",
        "\n",
        "Here's a basic example of how to use numpy.fromfunction:\n",
        "\n",
        "python\n",
        "Copy code\n",
        "import numpy as np\n",
        "\n",
        "# Define a callable function to calculate array values based on coordinates\n",
        "def my_function(x, y):\n",
        "    return x + y\n",
        "\n",
        "# Create a 3x3 array by applying the callable function to each element's coordinates\n",
        "result = np.fromfunction(my_function, (3, 3))\n",
        "In this example, the my_function callable function takes two arguments (x and y) representing the coordinates of each element. It returns the sum of x and y, which is used to calculate the values for each element in the resulting array.\n",
        "\n",
        "The numpy.fromfunction function is useful when you need to create arrays with specific patterns or values based on the coordinates. The callable function can be customized to implement various mathematical operations, patterns, or computations to generate the array's values.\n",
        "\n"
      ],
      "metadata": {
        "id": "HS9q-CIGNNG7"
      }
    },
    {
      "cell_type": "code",
      "source": [],
      "metadata": {
        "id": "yWvNyBuINU6A"
      },
      "execution_count": null,
      "outputs": []
    },
    {
      "cell_type": "markdown",
      "source": [
        "Q6. What happens when a numpy array is combined with a single-value operand (a scalar, such as\n",
        "an int or a floating-point value) through addition, as in the expression A + n?\n",
        "answer:-\n",
        "When a NumPy array is combined with a single-value operand (a scalar, such as an integer or a floating-point value) through addition (e.g., A + n), NumPy applies the addition operation element-wise. This means that the scalar value n is added to each element of the array A. The result is a new NumPy array of the same shape as A, where each element is the sum of the corresponding element in A and the scalar n.\n",
        "\n",
        "Here's an example to illustrate this:\n",
        "\n",
        "python\n",
        "Copy code\n",
        "import numpy as np\n",
        "\n",
        "# Create a NumPy array\n",
        "A = np.array([1, 2, 3, 4])\n",
        "\n",
        "# Scalar value\n",
        "n = 5\n",
        "\n",
        "# Add the scalar value to the array\n",
        "result = A + n\n",
        "In this example, result will be a NumPy array with the same shape as A, and each element of result will be the sum of the corresponding element in A and the scalar value n. In this case, the result will be [6, 7, 8, 9].\n",
        "\n",
        "This element-wise behavior allows you to perform arithmetic operations on arrays with scalars easily, which is a fundamental feature of NumPy and is often used in mathematical and scientific computations. It also follows the broadcasting rules of NumPy, which enable operations between arrays of different shapes as long as they are compatible.\n",
        "\n",
        "\n",
        "\n",
        "\n"
      ],
      "metadata": {
        "id": "1h-ti7giNVbz"
      }
    },
    {
      "cell_type": "code",
      "source": [],
      "metadata": {
        "id": "Af-xhQZ9NdAq"
      },
      "execution_count": null,
      "outputs": []
    },
    {
      "cell_type": "markdown",
      "source": [
        "Q7. Can array-to-scalar operations use combined operation-assign operators (such as += or *=)?\n",
        "What is the outcome?\n",
        "answer:-\n",
        "In NumPy, array-to-scalar operations can use combined operation-assign operators (such as += or *=), but the outcome of these operations may not be as expected. When you use combined operation-assign operators with a NumPy array and a scalar, the operation is applied element-wise, and the result is an array of the same shape as the original array.\n",
        "\n",
        "Here's an example to illustrate the behavior:\n",
        "\n",
        "python\n",
        "Copy code\n",
        "import numpy as np\n",
        "\n",
        "# Create a NumPy array\n",
        "arr = np.array([1, 2, 3, 4])\n",
        "\n",
        "# Scalar value\n",
        "n = 2\n",
        "\n",
        "# Use combined operation-assign operator +=\n",
        "arr += n\n",
        "In this example, the += operator is applied to the arr array and the scalar n. The result is that the scalar value n is added to each element of the array arr. After this operation, the arr array is modified in place, and its values become [3, 4, 5, 6].\n",
        "\n",
        "The key point to remember is that combined operation-assign operators are applied element-wise when used with arrays and scalars. If you want to perform a scalar operation that affects the entire array, you should apply the operation to the entire array directly without using combined operation-assign operators.\n",
        "\n",
        "For example, to multiply every element of the array by a scalar without modifying the original array, you can use the multiplication operator:\n",
        "\n",
        "python\n",
        "Copy code\n",
        "import numpy as np\n",
        "\n",
        "# Create a NumPy array\n",
        "arr = np.array([1, 2, 3, 4])\n",
        "\n",
        "# Scalar value\n",
        "n = 2\n",
        "\n",
        "# Multiply the entire array by the scalar\n",
        "result = arr * n\n",
        "In this case, the result array will contain the values [2, 4, 6, 8], and the original arr array remains unchanged."
      ],
      "metadata": {
        "id": "Qwj9u63_NfrL"
      }
    },
    {
      "cell_type": "markdown",
      "source": [
        "Q8. Does a numpy array contain fixed-length strings? What happens if you allocate a longer string to\n",
        "one of these arrays?\n",
        "answer:-\n",
        "n NumPy, you can create arrays of fixed-length strings using the numpy.array constructor and specifying the dtype (data type) as a string with a fixed length. Fixed-length strings are often referred to as \"fixed-size strings.\"\n",
        "\n",
        "Here's how you can create a NumPy array of fixed-length strings:\n",
        "\n",
        "python\n",
        "Copy code\n",
        "import numpy as np\n",
        "\n",
        "# Create a NumPy array of fixed-length strings with a length of 5\n",
        "string_array = np.array(['apple', 'banana', 'cherry'], dtype='S5')\n",
        "In this example, dtype='S5' specifies that each element of the array can have a string with a maximum length of 5 characters. If you attempt to assign a longer string to an element in this array, NumPy will truncate the string to the specified length without raising an error.\n",
        "\n",
        "For example:\n",
        "\n",
        "python\n",
        "Copy code\n",
        "# Attempt to assign a longer string\n",
        "string_array[1] = 'grapefruit'\n",
        "\n",
        "# The string is truncated to fit the fixed length\n",
        "print(string_array)\n",
        "The output will be:\n",
        "\n",
        "css\n",
        "Copy code\n",
        "['apple' 'grape']\n",
        "As you can see, the string 'grapefruit' is truncated to 'grape' to fit the fixed length of 5 characters.\n",
        "\n",
        "Fixed-length strings are useful when you need to store and manipulate data with a known and consistent format, such as data in a fixed-width text file or structured data with predefined field lengths. However, it's important to be aware of the fixed length limitation, as longer strings will be truncated, and shorter strings may be padded with spaces to match the specified length.\n",
        "\n",
        "\n",
        "\n",
        "\n"
      ],
      "metadata": {
        "id": "VohJLtNsNqJr"
      }
    },
    {
      "cell_type": "code",
      "source": [],
      "metadata": {
        "id": "_uwXAiYBNmRy"
      },
      "execution_count": null,
      "outputs": []
    },
    {
      "cell_type": "markdown",
      "source": [
        "Q9. What happens when you combine two numpy arrays using an operation like addition (+) or\n",
        "multiplication (*)? What are the conditions for combining two numpy arrays?\n",
        "answer:-\n",
        "\n",
        "When you combine two NumPy arrays using arithmetic operations like addition (+) or multiplication (*), NumPy applies the operation element-wise. The conditions for combining two NumPy arrays are as follows:\n",
        "\n",
        "Compatible Shapes: To perform element-wise operations between two NumPy arrays, the arrays must have compatible shapes. Compatible shapes mean that they either have the same shape (same number of dimensions and the same number of elements along each dimension), or their shapes are broadcastable to a common shape.\n",
        "\n",
        "Broadcasting is a powerful feature in NumPy that allows you to perform operations on arrays with different but compatible shapes. The smaller array is broadcast to match the shape of the larger array, making element-wise operations possible.\n",
        "\n",
        "Data Types: The data types of the two arrays should be compatible. For example, you can add or multiply two arrays with integer elements, float elements, or other compatible data types. If the data types are not compatible, NumPy may perform type coercion to make the data types compatible, but you should be aware of potential loss of precision in such cases.\n",
        "\n",
        "Here's an example of combining two NumPy arrays:\n",
        "\n",
        "python\n",
        "Copy code\n",
        "import numpy as np\n",
        "\n",
        "# Create two NumPy arrays with compatible shapes\n",
        "array1 = np.array([1, 2, 3])\n",
        "array2 = np.array([4, 5, 6])\n",
        "\n",
        "# Addition of arrays\n",
        "result_addition = array1 + array2\n",
        "\n",
        "# Multiplication of arrays\n",
        "result_multiplication = array1 * array2\n",
        "\n",
        "print(\"Addition Result:\", result_addition)\n",
        "print(\"Multiplication Result:\", result_multiplication)\n",
        "In this example, both array1 and array2 have compatible shapes (1-dimensional arrays with the same number of elements), and their addition and multiplication result in element-wise operations, resulting in new arrays with the same"
      ],
      "metadata": {
        "id": "v_oiz7qINvPP"
      }
    },
    {
      "cell_type": "code",
      "source": [],
      "metadata": {
        "id": "pI8kQ4m6N5-g"
      },
      "execution_count": null,
      "outputs": []
    },
    {
      "cell_type": "markdown",
      "source": [
        "Q10. What is the best way to use a Boolean array to mask another array?\n",
        "answer:-\n",
        "The best way to use a Boolean array to mask (or filter) another array in NumPy is to employ Boolean indexing. Boolean indexing allows you to select elements from one array based on the corresponding Boolean values from another array. Here's how to do it:\n",
        "\n",
        "Create a Boolean Array: First, create a Boolean array that has the same shape as the array you want to mask. This Boolean array should contain True and False values to indicate which elements should be selected (True) or masked (False).\n",
        "\n",
        "Apply Boolean Indexing: Use the Boolean array as an index to the array you want to mask. NumPy will return a new array containing only the elements for which the corresponding Boolean value is True in the Boolean array.\n",
        "\n",
        "Here's an example:\n",
        "\n",
        "python\n",
        "Copy code\n",
        "import numpy as np\n",
        "\n",
        "# Create an array to mask\n",
        "data = np.array([1, 2, 3, 4, 5])\n",
        "\n",
        "# Create a Boolean array with the same shape\n",
        "mask = np.array([True, False, True, False, True])\n",
        "\n",
        "# Use Boolean indexing to mask the array\n",
        "masked_data = data[mask]\n",
        "\n",
        "print(\"Original Array:\", data)\n",
        "print(\"Boolean Mask:\", mask)\n",
        "print(\"Masked Array:\", masked_data)\n",
        "In this example, we create a Boolean array mask with True values at the positions where we want to keep elements (1st, 3rd, and 5th elements) and False values where we want to mask elements (2nd and 4th elements). When we apply Boolean indexing with this mask to the `\n",
        "\n"
      ],
      "metadata": {
        "id": "sPhNarU9N6iX"
      }
    },
    {
      "cell_type": "code",
      "source": [],
      "metadata": {
        "id": "03O_lvSuOAaY"
      },
      "execution_count": null,
      "outputs": []
    },
    {
      "cell_type": "markdown",
      "source": [],
      "metadata": {
        "id": "3nfLo_PeOA4v"
      }
    },
    {
      "cell_type": "markdown",
      "source": [
        "Q11. What are three different ways to get the standard deviation of a wide collection of data using\n",
        "both standard Python and its packages? Sort the three of them by how quickly they execute..\n",
        "answer:-\n",
        "both standard Python and its packages? Sort the three of them by how quickly they execute.\n",
        "ChatGPT\n",
        "Calculating the standard deviation of a collection of data in Python can be done using various methods and packages. Here are three different ways to compute the standard deviation, sorted by their execution speed, from fastest to slowest:\n",
        "\n",
        "NumPy:\n",
        "\n",
        "NumPy is a fast and efficient library for numerical and scientific computing in Python. It provides a numpy.std function that calculates the standard deviation of a NumPy array or a Python list.\n",
        "NumPy is typically the fastest option for calculating the standard deviation.\n",
        "python\n",
        "Copy code\n",
        "import numpy as np\n",
        "\n",
        "data = [1, 2, 3, 4, 5]\n",
        "std_deviation = np.std(data)\n",
        "Statistics Module (Python 3.8+):\n",
        "\n",
        "Python's standard library includes the statistics module, introduced in Python 3.8, which provides a statistics.stdev function to calculate the sample standard deviation of a sequence of data points.\n",
        "The statistics module is a built-in option that is reasonably fast.\n",
        "python\n",
        "Copy code\n",
        "from statistics import stdev\n",
        "\n",
        "data = [1, 2, 3, 4, 5]\n",
        "std_deviation = stdev(data)\n",
        "Pure Python (Math Module):\n",
        "\n",
        "You can calculate the standard deviation in pure Python using the math module. This method is the slowest among the three.\n",
        "You'll need to calculate the mean, sum of squared differences, and then take the square root.\n",
        "python\n",
        "Copy code\n",
        "import math\n",
        "\n",
        "data = [1, 2, 3, 4, 5]\n",
        "mean = sum(data) / len(data)\n",
        "squared_diff = [(x - mean) ** 2 for x in data]\n",
        "std_deviation = math.sqrt(sum(squared_diff) / len(data))\n",
        "In terms of execution speed, NumPy is the fastest option for calculating the standard deviation. It is highly optimized for numerical computations and can efficiently handle large datasets. The statistics module, being a built-in module introduced in Python 3.8, is also reasonably fast and is a good choice for smaller datasets. The pure Python approach using the math module is the slowest and may not be suitable for large datasets due to its lack of optimization.\n",
        "\n",
        "For large datasets or when performance is a priority, NumPy is the recommended choice for calculating standard deviations.\n",
        "\n",
        "\n",
        "\n",
        "\n"
      ],
      "metadata": {
        "id": "tBtTMya9OD2T"
      }
    },
    {
      "cell_type": "code",
      "source": [],
      "metadata": {
        "id": "WGyFYf9IOJOQ"
      },
      "execution_count": null,
      "outputs": []
    },
    {
      "cell_type": "markdown",
      "source": [
        "12. What is the dimensionality of a Boolean mask-generated array?\n",
        "answer:-\n",
        "\n",
        "The dimensionality of a Boolean mask-generated array depends on the shape of the Boolean mask itself. When you use a Boolean mask to index (or filter) another array, the resulting array will have the same number of dimensions as the Boolean mask. The Boolean mask specifies which elements to include or exclude along each dimension of the original array.\n",
        "\n",
        "For example, if you have a 2-dimensional Boolean mask, the resulting masked array will also be 2-dimensional. Similarly, if you have a 1-dimensional Boolean mask, the masked array will be 1-dimensional.\n",
        "\n",
        "Here's an example to illustrate this:\n",
        "\n",
        "python\n",
        "Copy code\n",
        "import numpy as np\n",
        "\n",
        "# Create a 2-dimensional array\n",
        "original_array = np.array([[1, 2, 3], [4, 5, 6], [7, 8, 9]])\n",
        "\n",
        "# Create a 2-dimensional Boolean mask\n",
        "boolean_mask = np.array([[True, False, True], [False, True, False], [True, False, True]])\n",
        "\n",
        "# Use Boolean indexing to create a masked array\n",
        "masked_array = original_array[boolean_mask]\n",
        "\n",
        "print(\"Original Array:\")\n",
        "print(original_array)\n",
        "print(\"Boolean Mask:\")\n",
        "print(boolean_mask)\n",
        "print(\"Masked Array:\")\n",
        "print(masked_array)\n",
        "In this example, the boolean_mask is 2-dimensional, and the resulting masked_array will also be 2-dimensional. The Boolean mask specifies which elements are selected along each dimension of the original array.\n",
        "\n",
        "The dimensionality of the Boolean mask-generated array is directly tied to the dimensionality of the mask itself.\n",
        "\n",
        "\n",
        "\n",
        "\n"
      ],
      "metadata": {
        "id": "C10e5ZGsOJr3"
      }
    },
    {
      "cell_type": "code",
      "source": [],
      "metadata": {
        "id": "4cM3wvV-OQRQ"
      },
      "execution_count": null,
      "outputs": []
    }
  ]
}