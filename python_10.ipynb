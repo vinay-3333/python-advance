{
  "nbformat": 4,
  "nbformat_minor": 0,
  "metadata": {
    "colab": {
      "provenance": []
    },
    "kernelspec": {
      "name": "python3",
      "display_name": "Python 3"
    },
    "language_info": {
      "name": "python"
    }
  },
  "cells": [
    {
      "cell_type": "code",
      "execution_count": null,
      "metadata": {
        "id": "0NGMLA0Sph98"
      },
      "outputs": [],
      "source": []
    },
    {
      "cell_type": "markdown",
      "source": [
        "Q1. What is the difference between __getattr__ and __getattribute__?\n",
        "\n",
        "\n",
        "__getattr__ and __getattribute__ are both special methods in Python used for attribute access and customization, but they serve different purposes and are used in different contexts.\n",
        "\n",
        "__getattr__:\n",
        "\n",
        "__getattr__ is invoked when an attempt is made to access an attribute that does not exist in an object.\n",
        "It takes two arguments: self (the instance) and the name of the attribute being accessed.\n",
        "You can use __getattr__ to define a custom behavior for handling attribute access for non-existent attributes. For example, you might dynamically compute or fetch attributes at runtime when they are accessed, allowing you to define attributes on-the-fly.\n",
        "Example:\n",
        "\n",
        "python\n",
        "Copy code\n",
        "class Example:\n",
        "    def __getattr__(self, name):\n",
        "        if name == \"non_existent_attr\":\n",
        "            return \"This attribute doesn't exist.\"\n",
        "\n",
        "obj = Example()\n",
        "print(obj.non_existent_attr)  # This will call __getattr__ and print \"This attribute doesn't exist.\"\n",
        "__getattribute__:\n",
        "\n",
        "__getattribute__ is a more powerful method that is always called when an attribute is accessed, whether it exists or not.\n",
        "It takes two arguments: self and the name of the attribute being accessed.\n",
        "This method is typically used to customize attribute access for all attributes within a class. Be careful when using it because it can lead to infinite recursion if not handled properly.\n",
        "Example:\n",
        "\n",
        "python\n",
        "Copy code\n",
        "class Example:\n",
        "    def __init__(self):\n",
        "        self.existing_attr = \"This is an existing attribute.\"\n",
        "\n",
        "    def __getattribute__(self, name):\n",
        "        if name == \"existing_attr\":\n",
        "            return \"Customized existing attribute access.\"\n",
        "        return super().__getattribute__(name)\n",
        "\n",
        "obj = Example()\n",
        "print(obj.existing_attr)  # This will call __getattribute__ and print \"Customized existing attribute access.\"\n",
        "In summary, the main difference is that __getattr__ is called only when trying to access a non-existent attribute, while __getattribute__ is called for all attribute access and allows you to customize the behavior for existing attributes as well. However, you should use __getattribute__ with caution, as it can impact the default attribute access behavior and potentially lead to unintended side effects or infinite loops if not handled correctly."
      ],
      "metadata": {
        "id": "1rt3iW58pswc"
      }
    },
    {
      "cell_type": "code",
      "source": [],
      "metadata": {
        "id": "sLigu-fOpwQq"
      },
      "execution_count": null,
      "outputs": []
    },
    {
      "cell_type": "markdown",
      "source": [
        "Q2. What is the difference between properties and descriptors?\n",
        "answer:-\n",
        "Properties and descriptors are both mechanisms in Python for controlling attribute access, but they serve different purposes and have some key differences.\n",
        "\n",
        "Properties:\n",
        "\n",
        "Simple Attribute Access Control: Properties provide a straightforward way to control access to an attribute, primarily for getting and setting values. They are often used when you want to add custom behavior to attribute access without changing the attribute's name.\n",
        "\n",
        "Decorator Syntax: Properties are typically created using the @property decorator for defining a getter method and optionally using @<attr_name>.setter and @<attr_name>.deleter decorators to define setter and deleter methods.\n",
        "\n",
        "Per-Attribute Control: Properties are attached to specific attributes within a class. Each property is associated with a single attribute.\n",
        "\n",
        "Readability: Properties can enhance code readability and maintainability by abstracting the underlying implementation details. They look and feel like regular attribute access.\n",
        "\n",
        "Example:"
      ],
      "metadata": {
        "id": "dALkIHCQpyOY"
      }
    },
    {
      "cell_type": "code",
      "source": [],
      "metadata": {
        "id": "-C1mpzXqp4AR"
      },
      "execution_count": null,
      "outputs": []
    },
    {
      "cell_type": "markdown",
      "source": [
        "Q3. What are the key differences in functionality between __getattr__ and __getattribute__, as well as\n",
        "properties and descriptors?\n",
        "answer:-\n",
        "__getattr__ and __getattribute, as well as properties and descriptors, are all mechanisms in Python that enable you to control attribute access, but they have distinct differences in terms of functionality and use cases. Here are the key differences between these mechanisms:\n",
        "\n",
        "__getattr__ vs. __getattribute:\n",
        "\n",
        "Triggered on Attribute Access:\n",
        "\n",
        "__getattr__: Called when an attribute is accessed that doesn't exist in the object.\n",
        "__getattribute__: Called for all attribute accesses, regardless of whether the attribute exists or not.\n",
        "Use Cases:\n",
        "\n",
        "__getattr__: Typically used for dynamically generating or computing attributes on-the-fly or for handling non-existent attributes.\n",
        "__getattribute__: Used to customize attribute access for all attributes, including existing ones, often with great care to avoid infinite recursion.\n",
        "Arguments:\n",
        "\n",
        "__getattr__ takes two arguments: self (the instance) and the name of the attribute being accessed.\n",
        "__getattribute__ takes three arguments: self, the attribute name, and the class of the instance.\n",
        "Properties vs. Descriptors:\n",
        "\n",
        "Control Level:\n",
        "\n",
        "Properties provide a high-level way to control attribute access primarily for getting and setting values. They are simpler to use and are often used for basic custom behavior.\n",
        "Descriptors offer a lower-level, more flexible way to control attribute access. They can be used for complex operations and can customize access, assignment, and deletion of attributes.\n",
        "Decorator Syntax:\n",
        "\n",
        "Properties are often created using decorators (@property, @<attr_name>.setter, @<attr_name>.deleter) for getter, setter, and deleter methods.\n",
        "Descriptors are typically defined using special methods such as __get__, __set__, and __delete__.\n",
        "Scope:\n",
        "\n",
        "Properties are associated with specific attributes within a class. Each property is tied to a single attribute.\n",
        "Descriptors are defined at the class level and can be reused across multiple attributes in a class, providing class-wide attribute management.\n",
        "Complexity and Flexibility:\n",
        "\n",
        "Properties are well-suited for simpler attribute access control and adding custom behavior to getters and setters.\n",
        "Descriptors offer more compl"
      ],
      "metadata": {
        "id": "w8cdRonep4Zj"
      }
    },
    {
      "cell_type": "code",
      "source": [],
      "metadata": {
        "id": "jVk9Rv28qAEI"
      },
      "execution_count": null,
      "outputs": []
    }
  ]
}