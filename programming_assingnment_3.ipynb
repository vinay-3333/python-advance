{
  "nbformat": 4,
  "nbformat_minor": 0,
  "metadata": {
    "colab": {
      "provenance": []
    },
    "kernelspec": {
      "name": "python3",
      "display_name": "Python 3"
    },
    "language_info": {
      "name": "python"
    }
  },
  "cells": [
    {
      "cell_type": "code",
      "execution_count": null,
      "metadata": {
        "id": "-Mn7C6W-3uk_"
      },
      "outputs": [],
      "source": []
    },
    {
      "cell_type": "markdown",
      "source": [
        "1. What is the concept of an abstract superclass?\n",
        "answer:-\n",
        "\n",
        "In Python, an abstract superclass, also known as an abstract base class (ABC), is a class that serves as a blueprint for other classes. It defines a common interface and a set of methods that must be implemented by any concrete (derived) classes that inherit from it. Abstract superclasses are used to enforce a certain structure or behavior in subclasses, making it a form of design pattern used for code organization and ensuring that certain methods are implemented consistently across related classes.\n",
        "\n",
        "To create an abstract superclass in Python, you typically use the abc module, which stands for \"Abstract Base Classes.\" Here's how you can create an abstract superclass:\n"
      ],
      "metadata": {
        "id": "IlDK8YgC3ziz"
      }
    },
    {
      "cell_type": "code",
      "source": [],
      "metadata": {
        "id": "NC7sCLWj4nEd"
      },
      "execution_count": null,
      "outputs": []
    },
    {
      "cell_type": "markdown",
      "source": [
        "2. What happens when a class statement&#39;s top level contains a basic assignment statement?\n",
        "answer:-\n",
        "class MyClass:\n",
        "    class_variable = 10  # This is a class-level variable\n",
        "\n",
        "    def __init__(self, instance_variable):\n",
        "        self.instance_variable = instance_variable\n",
        "\n",
        "# Creating instances of MyClass\n",
        "obj1 = MyClass(20)\n",
        "obj2 = MyClass(30)\n",
        "\n",
        "# Accessing class-level and instance-level variables\n",
        "print(obj1.class_variable)  # Accessing the class-level variable\n",
        "print(obj2.class_variable)\n",
        "print(obj1.instance_variable)  # Accessing the instance-level variable\n",
        "print(obj2.instance_variable)\n"
      ],
      "metadata": {
        "id": "LlIKyFth4qdD"
      }
    },
    {
      "cell_type": "code",
      "source": [],
      "metadata": {
        "id": "gaF3Nl7C5Cfc"
      },
      "execution_count": null,
      "outputs": []
    },
    {
      "cell_type": "markdown",
      "source": [
        "3. Why does a class need to manually call a superclass&#39;s __init__ method?\n",
        "answer:-\n",
        "class Superclass:\n",
        "    def __init__(self, x):\n",
        "        self.x = x\n",
        "\n",
        "class Subclass(Superclass):\n",
        "    def __init__(self, x, y):\n",
        "        # Call the superclass's __init__ method to initialize self.x\n",
        "        super().__init__(x)\n",
        "        self.y = y\n",
        "\n",
        "# Creating instances\n",
        "obj = Subclass(10, 20)\n",
        "\n",
        "print(obj.x)  # Accessing the attribute from the superclass\n",
        "print(obj.y)  # Accessing the attribute from the subclass\n",
        "In this example, the Subclass calls the Superclass's __init__ method using super().__init__(x) to initialize the attribute x from the superclass. Then, it adds its own attribute y. This allows the subclass to have both its own attributes and any attributes inherited from the superclass.\n",
        "\n",
        "By manually calling the superclass's __init__ method, you ensure that the object is correctly initialized, and you follow the principle of reusing and extending existing code, which is one of the key principles of object-oriented programming."
      ],
      "metadata": {
        "id": "5gXDF1qF5DES"
      }
    },
    {
      "cell_type": "code",
      "source": [],
      "metadata": {
        "id": "xmj0PSje58wc"
      },
      "execution_count": null,
      "outputs": []
    },
    {
      "cell_type": "markdown",
      "source": [
        "4. How can you augment, instead of completely replacing, an inherited method?\n",
        "answer:-\n",
        "\n",
        "In object-oriented programming, you can augment an inherited method from a superclass in a subclass by following these steps:\n",
        "\n",
        "Call the Superclass Method: In the subclass, call the superclass's method that you want to augment. You can do this using the super() function.\n",
        "\n",
        "Perform Additional Actions: After calling the superclass method, you can add any additional code or logic that you want to execute as part of the augmented behavior.\n",
        "\n",
        "Here's an example in Python to illustrate how to augment an inherited method:\n",
        "\n",
        "python\n",
        "Copy code\n",
        "class Superclass:\n",
        "    def some_method(self):\n",
        "        print(\"This is the superclass method.\")\n",
        "\n",
        "class Subclass(Superclass):\n",
        "    def some_method(self):\n",
        "        super().some_method()  # Call the superclass method\n",
        "        print(\"This is the augmented behavior in the subclass.\")\n",
        "\n",
        "# Creating an instance of Subclass\n",
        "obj = Subclass()\n",
        "\n",
        "# Calling the augmented method\n",
        "obj.some_method()\n",
        "In this example, the Subclass inherits the some_method from the Superclass but augments its behavior by first calling the superclass's method using super().some_method() and then adding additional behavior.\n",
        "\n",
        "When you call obj.some_method(), it will output:\n",
        "\n",
        "kotlin\n",
        "Copy code\n",
        "This is the superclass method.\n",
        "This is the augmented behavior in the subclass.\n",
        "This approach allows you to reuse and build upon the existing behavior defined in the superclass, providing a way to extend and customize the behavior of inherited methods in the subclass without completely replacing them. It's a fundamental concept in method overriding in object-oriented programming and is commonly used for code reusability and maintainability."
      ],
      "metadata": {
        "id": "pDYVDQXn6Aur"
      }
    },
    {
      "cell_type": "code",
      "source": [],
      "metadata": {
        "id": "m4n4_rRo60Lc"
      },
      "execution_count": null,
      "outputs": []
    },
    {
      "cell_type": "markdown",
      "source": [
        "5. How is the local scope of a class different from that of a function?\n",
        "answer:-\n",
        "\n",
        "The local scope of a class and that of a function in Python are different in several ways:\n",
        "\n",
        "Function vs. Class:\n",
        "\n",
        "Local Function Scope: Functions define their own local scope, which is created when the function is called and destroyed when the function returns or finishes execution.\n",
        "Local Class Scope: Classes do not define local scopes in the same way functions do. Instead, they define attributes and methods that are accessible through instances of the class, and these attributes are not tied to the lifetime of a specific function call.\n",
        "Variables and Attributes:\n",
        "\n",
        "Local Function Scope: In a function's local scope, you can define and access variables. These variables are temporary and are typically used for storing and manipulating data within the function.\n",
        "Local Class Scope: In a class's local scope, you define class-level attributes and methods. These attributes are associated with the class itself and are shared among all instances of the class. They exist for the entire lifetime of the program or until the class is no longer needed.\n",
        "Access from Outside:\n",
        "\n",
        "Local Function Scope: Variables defined within a function's local scope are not directly accessible from outside the function unless they are explicitly returned by the function.\n",
        "Local Class Scope: Class attributes and methods are accessible through instances of the class or by referencing the class itself. They are designed to be used and modified by instances of the class and can be accessed externally"
      ],
      "metadata": {
        "id": "LF9v1ceD60o6"
      }
    },
    {
      "cell_type": "code",
      "source": [],
      "metadata": {
        "id": "rSZH2kjr7gc0"
      },
      "execution_count": null,
      "outputs": []
    }
  ]
}